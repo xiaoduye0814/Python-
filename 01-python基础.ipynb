{
 "cells": [
  {
   "cell_type": "code",
   "execution_count": null,
   "metadata": {
    "collapsed": false
   },
   "outputs": [
    {
     "name": "stdout",
     "output_type": "stream",
     "text": [
      " i am 18 years old , i love fujia and i am 18 years old. \n"
     ]
    }
   ],
   "source": [
    "s=\" i am {1} years old , i love {0} and i am {1} years old. \".format(\"fujia\",18)\n",
    "print(s)"
   ]
  },
  {
   "cell_type": "code",
   "execution_count": 8,
   "metadata": {
    "collapsed": false
   },
   "outputs": [
    {
     "name": "stdout",
     "output_type": "stream",
     "text": [
      "343\n",
      "0\n",
      "10\n"
     ]
    }
   ],
   "source": [
    "a=9+3-2\n",
    "b=9*0\n",
    "c=7**3\n",
    "d=\"ggagga \"\n",
    "print(c)\n",
    "print(b)\n",
    "print(a)"
   ]
  },
  {
   "cell_type": "code",
   "execution_count": 9,
   "metadata": {},
   "outputs": [
    {
     "name": "stdout",
     "output_type": "stream",
     "text": [
      "64\n"
     ]
    }
   ],
   "source": [
    "a=8**2\n",
    "print(a)"
   ]
  },
  {
   "cell_type": "code",
   "execution_count": 10,
   "metadata": {},
   "outputs": [
    {
     "name": "stdout",
     "output_type": "stream",
     "text": [
      "False\n"
     ]
    }
   ],
   "source": [
    "a=3**4\n",
    "b = a==80\n",
    "print(b)"
   ]
  },
  {
   "cell_type": "code",
   "execution_count": 11,
   "metadata": {},
   "outputs": [
    {
     "name": "stdout",
     "output_type": "stream",
     "text": [
      "True\n"
     ]
    }
   ],
   "source": [
    "print(9!=8)"
   ]
  },
  {
   "cell_type": "code",
   "execution_count": 12,
   "metadata": {},
   "outputs": [
    {
     "name": "stdout",
     "output_type": "stream",
     "text": [
      "True\n"
     ]
    }
   ],
   "source": [
    "a=True\n",
    "b=False\n",
    "c=True\n",
    "d = a and b or c\n",
    "print(d)"
   ]
  },
  {
   "cell_type": "code",
   "execution_count": 14,
   "metadata": {},
   "outputs": [
    {
     "name": "stdout",
     "output_type": "stream",
     "text": [
      "True\n"
     ]
    }
   ],
   "source": [
    "d=a or b and a\n",
    "print(d)"
   ]
  },
  {
   "cell_type": "code",
   "execution_count": 16,
   "metadata": {},
   "outputs": [
    {
     "ename": "SyntaxError",
     "evalue": "invalid syntax (<ipython-input-16-e3e096eab5c6>, line 1)",
     "traceback": [
      "\u001b[1;36m  File \u001b[1;32m\"<ipython-input-16-e3e096eab5c6>\"\u001b[1;36m, line \u001b[1;32m1\u001b[0m\n\u001b[1;33m    a= True or @@@@@@@@@\u001b[0m\n\u001b[1;37m               ^\u001b[0m\n\u001b[1;31mSyntaxError\u001b[0m\u001b[1;31m:\u001b[0m invalid syntax\n"
     ],
     "output_type": "error"
    }
   ],
   "source": [
    "a= True or @@@@@@@@@\n",
    "print(a)"
   ]
  },
  {
   "cell_type": "code",
   "execution_count": 19,
   "metadata": {},
   "outputs": [
    {
     "name": "stdout",
     "output_type": "stream",
     "text": [
      "True\n"
     ]
    }
   ],
   "source": [
    "l = {1,2,3,4}\n",
    "a = 7\n",
    "b = a not in l\n",
    "print(b)"
   ]
  },
  {
   "cell_type": "code",
   "execution_count": 33,
   "metadata": {},
   "outputs": [
    {
     "name": "stdout",
     "output_type": "stream",
     "text": [
      "去叫家长\n",
      "我们不带你玩\n",
      "开课啦1\n",
      "开课啦2\n"
     ]
    }
   ],
   "source": [
    "age = 17 \n",
    "if age < 18 :\n",
    "    print(\"去叫家长\")\n",
    "    print(\"我们不带你玩\")\n",
    "    \n",
    "print(\"开课啦1\")\n",
    "print(\"开课啦2\")"
   ]
  },
  {
   "cell_type": "code",
   "execution_count": 36,
   "metadata": {},
   "outputs": [
    {
     "name": "stdout",
     "output_type": "stream",
     "text": [
      "今天学习for循环\n",
      "去炒作业吧\n",
      "今天开始for循环了\n"
     ]
    }
   ],
   "source": [
    "print(\"今天学习for循环\")\n",
    "gender=\"男\"\n",
    "if(gender==\"女\"):\n",
    "    print(\"叔叔给你糖吃\")\n",
    "else:\n",
    "    print(\"去炒作业吧\")\n",
    "print(\"今天开始for循环了\")"
   ]
  },
  {
   "cell_type": "code",
   "execution_count": 48,
   "metadata": {},
   "outputs": [
    {
     "name": "stdout",
     "output_type": "stream",
     "text": [
      "请输入性别：NAN \n",
      "你输入的姓名是:NAN \n",
      "发糖喽\n",
      "11111\n",
      "开课喽\n"
     ]
    }
   ],
   "source": [
    "gender=input(\"请输入性别：\")\n",
    "print(\"你输入的姓名是:{0}\".format(gender))\n",
    "if gender==\"nan\":\n",
    "    print(\"写作业\")\n",
    "else:\n",
    "        print(\"发糖喽\")\n",
    "        print(\"11111\")\n",
    "print(\"开课喽\")"
   ]
  },
  {
   "cell_type": "code",
   "execution_count": 63,
   "metadata": {},
   "outputs": [
    {
     "name": "stdout",
     "output_type": "stream",
     "text": [
      "请输入学生成绩：22\n",
      "不及格\n"
     ]
    }
   ],
   "source": [
    "#考试成绩 \n",
    "# 90以上 A\n",
    "# 80-90 B\n",
    "# 70-80 C\n",
    "# 60-70 D\n",
    "# 60以下 不及格\n",
    "score = input(\"请输入学生成绩：\")\n",
    "# 需要把Str转为int(必须为形如int的一个字符串)\n",
    "score = int(score)\n",
    "if score > 90 :\n",
    "    print(\"A\")\n",
    "elif score>=80:\n",
    "    print(\"B\")\n",
    "elif score>=70:\n",
    "    print(\"C\")\n",
    "elif score>=60:\n",
    "    print(\"D\")\n",
    "else:\n",
    "    print(\"不及格\")"
   ]
  },
  {
   "cell_type": "code",
   "execution_count": 72,
   "metadata": {},
   "outputs": [
    {
     "name": "stdout",
     "output_type": "stream",
     "text": [
      "李四\n",
      "同学我们不约李四，同学请自重\n",
      "张三\n",
      "同学我们不约张三，同学请自重\n",
      "静静\n",
      "我的最爱静静出现了\n",
      "王五\n",
      "同学我们不约王五，同学请自重\n"
     ]
    }
   ],
   "source": [
    "for  name in  {'张三','李四','王五','静静'}:\n",
    "    print(name)\n",
    "    if name==\"静静\":\n",
    "        print(\"我的最爱{0}出现了\".format(name))\n",
    "    else:\n",
    "        print(\"同学我们不约{0}，同学请自重\".format(name))"
   ]
  },
  {
   "cell_type": "code",
   "execution_count": 74,
   "metadata": {},
   "outputs": [
    {
     "name": "stdout",
     "output_type": "stream",
     "text": [
      "1\n",
      "2\n",
      "3\n",
      "4\n",
      "5\n",
      "6\n",
      "7\n",
      "8\n",
      "9\n",
      "10\n"
     ]
    }
   ],
   "source": [
    "# 打印从一道十的数字\n",
    "for i in range(1,11):\n",
    "    print(i)"
   ]
  },
  {
   "cell_type": "code",
   "execution_count": 76,
   "metadata": {},
   "outputs": [
    {
     "name": "stdout",
     "output_type": "stream",
     "text": [
      "李四\n",
      "同学我们不约李四，同学请自重\n",
      "张三\n",
      "同学我们不约张三，同学请自重\n",
      "静静\n",
      "我的最爱静静出现了\n",
      "王五\n",
      "同学我们不约王五，同学请自重\n",
      "别的都不是我的学僧，我不会再爱了\n"
     ]
    }
   ],
   "source": [
    "# for-else 语句\n",
    "# 打印列表中的同学，如果没有胡泽红列表结束了，我们需要打出提示语句，表示不再爱了\n",
    "for  name in  {'张三','李四','王五','静静'}:\n",
    "    print(name)\n",
    "    if name==\"静静\":\n",
    "        print(\"我的最爱{0}出现了\".format(name))\n",
    "    else:\n",
    "        print(\"同学我们不约{0}，同学请自重\".format(name))\n",
    "else:\n",
    "    print(\"别的都不是我的学僧，我不会再爱了\")"
   ]
  },
  {
   "cell_type": "code",
   "execution_count": 85,
   "metadata": {},
   "outputs": [
    {
     "name": "stdout",
     "output_type": "stream",
     "text": [
      "1\n",
      "2\n",
      "我找到了\n"
     ]
    }
   ],
   "source": [
    "# 在1-10的数字中，寻找数字7，一旦找到，打印出来，其余则什么都不做\n",
    "# for循环中的标量表示，一般用 i,k,m,n 或者index，idx,item之类\n",
    "# 在Python中，故循环名称不重要，可以用下划线（_）代替\n",
    "# for _ in range(1,11):\n",
    "#    print(\"i love hanfengxuan \")\n",
    "for i in range(1,11):\n",
    "    if i == 3 :\n",
    "        print(\"我找到了\")\n",
    "        break\n",
    "    else:\n",
    "        print(i)\n",
    "    "
   ]
  },
  {
   "cell_type": "code",
   "execution_count": 89,
   "metadata": {},
   "outputs": [
    {
     "name": "stdout",
     "output_type": "stream",
     "text": [
      "1不是偶数哦\n",
      "我找到了偶数2\n",
      "3不是偶数哦\n",
      "我找到了偶数4\n",
      "5不是偶数哦\n",
      "我找到了偶数6\n",
      "7不是偶数哦\n",
      "我找到了偶数8\n",
      "9不是偶数哦\n",
      "我找到了偶数10\n"
     ]
    }
   ],
   "source": [
    "# 在1-10的数字中，寻找所有偶数，一旦找到，打印偶数，奇数什么也不做\n",
    "for i in range(1,11):\n",
    "    if i % 2 == 0 :\n",
    "        print(\"我找到了偶数{0}\".format(i))\n",
    "        continue\n",
    "    else:\n",
    "        print(\"{0}不是偶数哦\".format(i))\n",
    "    "
   ]
  },
  {
   "cell_type": "code",
   "execution_count": 90,
   "metadata": {},
   "outputs": [
    {
     "name": "stdout",
     "output_type": "stream",
     "text": [
      "我找到了偶数2\n",
      "我找到了偶数4\n",
      "我找到了偶数6\n",
      "我找到了偶数8\n",
      "我找到了偶数10\n"
     ]
    }
   ],
   "source": [
    "# 在1-10的数字中，寻找所有偶数，一旦找到，打印偶数，奇数什么也不做\n",
    "for i in range(1,11):\n",
    "    if i % 2 == 0 :\n",
    "        print(\"我找到了偶数{0}\".format(i))"
   ]
  },
  {
   "cell_type": "code",
   "execution_count": 92,
   "metadata": {},
   "outputs": [
    {
     "name": "stdout",
     "output_type": "stream",
     "text": [
      "我找到了偶数2\n",
      "我找到了偶数4\n",
      "我找到了偶数6\n",
      "我找到了偶数8\n",
      "我找到了偶数10\n"
     ]
    }
   ],
   "source": [
    "# 在1-10的数字中，寻找所有偶数，一旦找到，打印偶数，奇数什么也不做\n",
    "# 本案例完整展示continue的用法和作用\n",
    "for i in range(1,11):\n",
    "    if i % 2 == 1 :\n",
    "        continue    \n",
    "    print(\"我找到了偶数{0}\".format(i))"
   ]
  },
  {
   "cell_type": "code",
   "execution_count": null,
   "metadata": {
    "collapsed": false
   },
   "outputs": [
    {
     "name": "stdout",
     "output_type": "stream",
     "text": [
      "我是占位\n",
      "我是占位\n",
      "我是占位\n",
      "我是占位\n",
      "我是占位\n",
      "我是占位\n",
      "我是占位\n",
      "我是占位\n",
      "我是占位\n",
      "我是占位\n"
     ]
    }
   ],
   "source": [
    "# pass一般用于占位\n",
    "# pass没有跳过功能\n",
    "for i in range(1,11):\n",
    "    pass\n",
    "    print(\"我在占位\")"
   ]
  },
  {
   "cell_type": "code",
   "execution_count": 97,
   "metadata": {
    "collapsed": false
   },
   "outputs": [
    {
     "name": "stdout",
     "output_type": "stream",
     "text": [
      "['False', 'None', 'True', 'and', 'as', 'assert', 'break', 'class', 'continue', 'def', 'del', 'elif', 'else', 'except', 'finally', 'for', 'from', 'global', 'if', 'import', 'in', 'is', 'lambda', 'nonlocal', 'not', 'or', 'pass', 'raise', 'return', 'try', 'while', 'with', 'yield']\n"
     ]
    }
   ],
   "source": [
    "import keyword \n",
    "print(keyword.kwlist)"
   ]
  },
  {
   "cell_type": "code",
   "execution_count": null,
   "metadata": {},
   "outputs": [],
   "source": [
    "print(\"hahahaha\")"
   ]
  },
  {
   "cell_type": "code",
   "execution_count": null,
   "metadata": {},
   "outputs": [],
   "source": []
  }
 ],
 "metadata": {
  "kernelspec": {
   "display_name": "Python 3",
   "language": "python",
   "name": "python3"
  },
  "language_info": {
   "codemirror_mode": {
    "name": "ipython",
    "version": 3
   },
   "file_extension": ".py",
   "mimetype": "text/x-python",
   "name": "python",
   "nbconvert_exporter": "python",
   "pygments_lexer": "ipython3",
   "version": "3.6.5"
  }
 },
 "nbformat": 4,
 "nbformat_minor": 2
}
