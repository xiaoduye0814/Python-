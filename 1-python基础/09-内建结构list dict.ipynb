{
 "cells": [
  {
   "cell_type": "code",
   "execution_count": 1,
   "metadata": {},
   "outputs": [
    {
     "name": "stdout",
     "output_type": "stream",
     "text": [
      "hello，大家好，我先自我介绍一下：\n",
      "<class 'tuple'>\n",
      "fujia\n",
      "18\n",
      "dalian\n",
      "xiaom\n",
      "single\n",
      "hello，大家好，我先自我介绍一下：\n",
      "<class 'tuple'>\n",
      "小红\n"
     ]
    }
   ],
   "source": [
    "def stu( *args):\n",
    "    print(\"hello，大家好，我先自我介绍一下：\")\n",
    "    print(type(args))\n",
    "    for item in args:\n",
    "        print(item)\n",
    "stu(\"fujia\", 18, \"dalian\", \"xiaom\", \"single\")\n",
    "stu(\"小红\")"
   ]
  },
  {
   "cell_type": "markdown",
   "metadata": {},
   "source": [
    "# 汉诺塔问题\n",
    "- 规则：\n",
    "    1. 每次移动一个盘子\n",
    "    2. 任何时候大盘子在下面，小盘子在上面\n",
    "- 方法：\n",
    "    1. n=1: 直接把A上的盘子移动到C上面 A->C\n",
    "    2. n=2:\n",
    "        1. 把小盘子从A移动到B上， A->B\n",
    "        2. 把大盘子从A移动到C上， A->C\n",
    "        3. 把小盘子从B移动到C上， B->C\n",
    "    3. n=3:\n",
    "        1. 把A上的两个盘子通过C移动到B上去  调用递归实现\n",
    "        2. 把A上的最大盘子，也是唯一一个，移动到C上去  A->C \n",
    "        3. 把B上的n-1个盘子，借助于A，移动的C上   调用递归"
   ]
  },
  {
   "cell_type": "code",
   "execution_count": 14,
   "metadata": {},
   "outputs": [
    {
     "name": "stdout",
     "output_type": "stream",
     "text": [
      "A ---> C\n"
     ]
    }
   ],
   "source": [
    "def hano(n, a, b, c):\n",
    "    '''\n",
    "    n: 代表几个盘子\n",
    "    a: 代表第一个盘子\n",
    "    b: 代表第二个盘子\n",
    "    c: 代表第三个盘子,\n",
    "    '''\n",
    "    if n == 1:\n",
    "        print(a, \"--->\", c)\n",
    "        return None\n",
    "    if n == 2:\n",
    "        print(a, \"--->\", b)\n",
    "        print(a, \"--->\", c)\n",
    "        print(b, \"--->\", c)\n",
    "        return None\n",
    "    hano(n-1, a, c, b)\n",
    "    print(a, \"--->\", c)\n",
    "#     把n-1个盘子，从b塔借助a塔,挪到c塔上去\n",
    "    hano(n-1, b, a, c)\n",
    "    \n",
    "a = \"A\"\n",
    "b = \"B\"\n",
    "c = \"C\"\n",
    "n = 1\n",
    "hano(n, a, b, c)\n",
    "        "
   ]
  },
  {
   "cell_type": "code",
   "execution_count": 13,
   "metadata": {},
   "outputs": [
    {
     "name": "stdout",
     "output_type": "stream",
     "text": [
      "A ---> B\n",
      "A ---> C\n",
      "B ---> C\n"
     ]
    }
   ],
   "source": [
    "a = \"A\"\n",
    "b = \"B\"\n",
    "c = \"C\"\n",
    "n = 2\n",
    "hano(n, a, b, c)"
   ]
  },
  {
   "cell_type": "code",
   "execution_count": 12,
   "metadata": {},
   "outputs": [
    {
     "name": "stdout",
     "output_type": "stream",
     "text": [
      "A ---> C\n",
      "A ---> B\n",
      "C ---> B\n",
      "A ---> C\n",
      "B ---> A\n",
      "B ---> C\n",
      "A ---> C\n"
     ]
    }
   ],
   "source": [
    "a = \"A\"\n",
    "b = \"B\"\n",
    "c = \"C\"\n",
    "n = 3\n",
    "hano(n, a, b, c)"
   ]
  },
  {
   "cell_type": "markdown",
   "metadata": {},
   "source": [
    "# list(列表)\n",
    "- del 删除命令:在原有的基础的删除，删除之后没有生成新的list"
   ]
  },
  {
   "cell_type": "code",
   "execution_count": 18,
   "metadata": {},
   "outputs": [
    {
     "name": "stdout",
     "output_type": "stream",
     "text": [
      "78908680\n",
      "78908680\n",
      "[13, 12, 4]\n"
     ]
    }
   ],
   "source": [
    "a = [13, 12, 32, 4]\n",
    "print(id(a))\n",
    "del a[2]\n",
    "print(id(a))\n",
    "print(a)"
   ]
  },
  {
   "cell_type": "code",
   "execution_count": 20,
   "metadata": {},
   "outputs": [
    {
     "ename": "NameError",
     "evalue": "name 'a' is not defined",
     "output_type": "error",
     "traceback": [
      "\u001b[1;31m---------------------------------------------------------------------------\u001b[0m",
      "\u001b[1;31mNameError\u001b[0m                                 Traceback (most recent call last)",
      "\u001b[1;32m<ipython-input-20-c342333e421e>\u001b[0m in \u001b[0;36m<module>\u001b[1;34m()\u001b[0m\n\u001b[0;32m      1\u001b[0m \u001b[1;32mdel\u001b[0m \u001b[0ma\u001b[0m\u001b[1;33m\u001b[0m\u001b[0m\n\u001b[1;32m----> 2\u001b[1;33m \u001b[0mprint\u001b[0m\u001b[1;33m(\u001b[0m\u001b[0ma\u001b[0m\u001b[1;33m)\u001b[0m\u001b[1;33m\u001b[0m\u001b[0m\n\u001b[0m",
      "\u001b[1;31mNameError\u001b[0m: name 'a' is not defined"
     ]
    }
   ],
   "source": [
    "# del一个变量后不能再继续使用此变量\n",
    "del a\n",
    "print(a)"
   ]
  },
  {
   "cell_type": "code",
   "execution_count": 24,
   "metadata": {},
   "outputs": [
    {
     "name": "stdout",
     "output_type": "stream",
     "text": [
      "[1, 2, 3, 4, 5, 11, 22, 33, 44, 55, 'a', 'b', 'c']\n"
     ]
    }
   ],
   "source": [
    "# 列表相加\n",
    "# 使用加号连接两个列表\n",
    "a = [1, 2, 3, 4, 5]\n",
    "b = [11, 22, 33, 44, 55]\n",
    "d = ['a', 'b', 'c']\n",
    "c = a + b + d\n",
    "print(c)\n"
   ]
  },
  {
   "cell_type": "code",
   "execution_count": 27,
   "metadata": {},
   "outputs": [
    {
     "name": "stdout",
     "output_type": "stream",
     "text": [
      "[1, 2, 3, 4, 5, 1, 2, 3, 4, 5]\n"
     ]
    }
   ],
   "source": [
    "# 使用乘号操作列表\n",
    "# 列表跟一个整数相乘\n",
    "a = [1, 2, 3, 4, 5]\n",
    "b = a * 2\n",
    "print(b)"
   ]
  },
  {
   "cell_type": "code",
   "execution_count": 1,
   "metadata": {},
   "outputs": [
    {
     "name": "stdout",
     "output_type": "stream",
     "text": [
      "True\n",
      "False\n"
     ]
    }
   ],
   "source": [
    "# 成员资格运算\n",
    "# 就是判断一个元素是否在list里面\n",
    "a = [1, 2, 3, 4, 5]\n",
    "b = 1\n",
    "# c的值一定是一个布尔值\n",
    "c = b in a\n",
    "print(c)\n",
    "\n",
    "b = 4\n",
    "c = b not in a\n",
    "print(c)"
   ]
  },
  {
   "cell_type": "code",
   "execution_count": null,
   "metadata": {},
   "outputs": [],
   "source": [
    "# 链表的遍历\n",
    "- for \n",
    "- while \n"
   ]
  },
  {
   "cell_type": "code",
   "execution_count": 6,
   "metadata": {},
   "outputs": [
    {
     "name": "stdout",
     "output_type": "stream",
     "text": [
      "1\n",
      "2\n",
      "4\n",
      "56\n",
      "6\n"
     ]
    }
   ],
   "source": [
    "# for in list\n",
    "a = [1, 2, 4, 56, 6]\n",
    "for i in a:\n",
    "    print(i)"
   ]
  },
  {
   "cell_type": "code",
   "execution_count": 10,
   "metadata": {},
   "outputs": [
    {
     "name": "stdout",
     "output_type": "stream",
     "text": [
      "i love wnag xiao jing\n"
     ]
    }
   ],
   "source": [
    "b = [\"i love wnag xiao jing\"]\n",
    "for i in b:\n",
    "    print(i)"
   ]
  },
  {
   "cell_type": "code",
   "execution_count": 15,
   "metadata": {},
   "outputs": [
    {
     "name": "stdout",
     "output_type": "stream",
     "text": [
      "1\n",
      "2\n",
      "3\n",
      "4\n",
      "5\n",
      "<class 'range'>\n"
     ]
    }
   ],
   "source": [
    "# range\n",
    "# in 后面的变量要求是可以迭代的内容\n",
    "for i in range(1, 6):\n",
    "    print(i)\n",
    "print(type(range(1,2)))"
   ]
  },
  {
   "cell_type": "code",
   "execution_count": 16,
   "metadata": {},
   "outputs": [
    {
     "name": "stdout",
     "output_type": "stream",
     "text": [
      "1\n",
      "2\n",
      "3\n",
      "4\n"
     ]
    }
   ],
   "source": [
    "# while循环访问list\n",
    "# 一般不用while遍历list \n",
    "a = [1, 2, 3, 4]\n",
    "length = len(a)\n",
    "# index表示list的下标\n",
    "index = 0\n",
    "while index < length:\n",
    "    print(a[index])\n",
    "    index += 1\n",
    "    "
   ]
  },
  {
   "cell_type": "code",
   "execution_count": 19,
   "metadata": {},
   "outputs": [
    {
     "name": "stdout",
     "output_type": "stream",
     "text": [
      "one -- 1\n",
      "two -- 2\n",
      "three -- 3\n"
     ]
    }
   ],
   "source": [
    "# 双层列表循环\n",
    "# 双层列表或者a为嵌套列表\n",
    "a = [[\"one\", 1], [\"two\", 2], [\"three\", 3]]\n",
    "\n",
    "for k, v in a:\n",
    "    print(k, \"--\", v)\n"
   ]
  },
  {
   "cell_type": "code",
   "execution_count": 24,
   "metadata": {},
   "outputs": [
    {
     "name": "stdout",
     "output_type": "stream",
     "text": [
      "one -- 1 -- 1\n",
      "two -- 2 -- 1\n",
      "three -- 3 -- 1\n"
     ]
    }
   ],
   "source": [
    "# 这个例子说明k, v, w的个数应该跟解包出来的个数一致\n",
    "a = [[\"one\", 1, 1], [\"two\", 2, 1], [\"three\", 3, 1]]\n",
    "\n",
    "for k, v, w in a:\n",
    "    print(k, \"--\", v, \"--\", w)\n"
   ]
  },
  {
   "cell_type": "code",
   "execution_count": 21,
   "metadata": {},
   "outputs": [
    {
     "name": "stdout",
     "output_type": "stream",
     "text": [
      "1\n",
      "2\n",
      "3\n",
      "4\n"
     ]
    }
   ],
   "source": [
    "a = [1, 2, 3, 4]\n",
    "for i in range(0, len(a)):\n",
    "    print(a[i])\n",
    "    i += 1"
   ]
  },
  {
   "cell_type": "code",
   "execution_count": 28,
   "metadata": {},
   "outputs": [
    {
     "name": "stdout",
     "output_type": "stream",
     "text": [
      "['a', 'b', 'c']\n"
     ]
    }
   ],
   "source": [
    "# 列表内涵：list content\n",
    "# - 通过简单方法创作列表\n",
    "# for 创建\n",
    "a = ['a', 'b', 'c']\n",
    "# 用list a创建一个 list b\n",
    "# 下面的代码含义是，对于所有a中的元素，逐个放入新列表b中\n",
    "b = [i for i in a]\n",
    "print(b)"
   ]
  },
  {
   "cell_type": "code",
   "execution_count": 30,
   "metadata": {},
   "outputs": [
    {
     "name": "stdout",
     "output_type": "stream",
     "text": [
      "['aaaaa', 'bbbbb', 'ccccc', 'ddddd']\n",
      "[10, 20, 30, 40]\n"
     ]
    }
   ],
   "source": [
    "# 对a中的所有元素×10，生成一个新的list\n",
    "a = ['a', 'b', 'c', 'd']\n",
    "c = [1, 2, 3, 4]\n",
    "# 用list a创建一个 list b\n",
    "# 下面的代码含义是，对于所有a中的元素，逐个放入新列表b中\n",
    "b = [i*5 for i in a]\n",
    "d = [i*10 for i in c]\n",
    "print(b)\n",
    "print(d)"
   ]
  },
  {
   "cell_type": "code",
   "execution_count": 35,
   "metadata": {},
   "outputs": [
    {
     "name": "stdout",
     "output_type": "stream",
     "text": [
      "[1, 2, 3, 4, 5, 6, 7, 8, 9, 10, 11, 12, 13, 14, 15, 16, 17, 18, 19, 20, 21, 22, 23, 24, 25, 26, 27, 28, 29, 30, 31, 32, 33, 34]\n",
      "[2, 4, 6, 8, 10, 12, 14, 16, 18, 20, 22, 24, 26, 28, 30, 32, 34]\n"
     ]
    }
   ],
   "source": [
    "# 还可以过滤把原来list中的内容放入新列表\n",
    "# 比如原有列表a ,需要把a中的偶数生成新列表b\n",
    "a = [i for i in range(1, 35)] #生成1~34的整数\n",
    "print(a)\n",
    "b = [m for m in a if m % 2 == 0]\n",
    "print(b)"
   ]
  },
  {
   "cell_type": "code",
   "execution_count": 47,
   "metadata": {},
   "outputs": [
    {
     "name": "stdout",
     "output_type": "stream",
     "text": [
      "[1, 2, 3]\n",
      "[100, 200, 300]\n",
      "[101, 201, 301, 102, 202, 302, 103, 203, 303]\n",
      "101 201 301 102 202 302 103 203 303 \n",
      "[101, 201, 102, 202, 103, 203]\n"
     ]
    }
   ],
   "source": [
    "# 列表生成式也可以嵌套\n",
    "# 有两个列表a, b\n",
    "a = [i for i in range(1,4)] #生成list a\n",
    "print(a)\n",
    "b = [i for i in range(100, 400) if i % 100 ==0]\n",
    "print(b)\n",
    "# l列表生成可以嵌套, 此时等于两个for循环嵌套\n",
    "c = [ m + n for m in a for n in b]\n",
    "print(c)\n",
    "\n",
    "# 上面代码跟下面代码等价\n",
    "for m in a:\n",
    "    for n in b:\n",
    "        print(m+n ,end=\" \")\n",
    "print()\n",
    "\n",
    "# 嵌套的列表生成式也可以用条件表达式\n",
    "c = [ m + n for m in a for n in b if m+n <250]\n",
    "print(c)"
   ]
  },
  {
   "cell_type": "markdown",
   "metadata": {},
   "source": [
    "# 关于列表的常见函数\n"
   ]
  },
  {
   "cell_type": "code",
   "execution_count": 56,
   "metadata": {},
   "outputs": [
    {
     "name": "stdout",
     "output_type": "stream",
     "text": [
      "99\n",
      "99\n",
      "yython\n"
     ]
    }
   ],
   "source": [
    "# len :列表的长度\n",
    "a = [i for i in range(1,100)]\n",
    "print(len(a))\n",
    "\n",
    "# max：求列表的最大值\n",
    "# min: 求列表的最小值\n",
    "print(max(a))\n",
    "b = [\"man\", \"yython\", \"python\"]\n",
    "print(max(b))\n"
   ]
  },
  {
   "cell_type": "code",
   "execution_count": 57,
   "metadata": {},
   "outputs": [
    {
     "name": "stdout",
     "output_type": "stream",
     "text": [
      "[1, 3, 4]\n"
     ]
    }
   ],
   "source": [
    "# list：将其他格式数据转换成list\n",
    "a = [1, 3, 4]\n",
    "print(list(a))"
   ]
  },
  {
   "cell_type": "code",
   "execution_count": 59,
   "metadata": {},
   "outputs": [
    {
     "name": "stdout",
     "output_type": "stream",
     "text": [
      "['l', ' ', 'l', 'o', 'v', 'e', ' ', 'w', 'a', 'n', 'g', ' ', 'x', 'i', 'a', 'o', ' ', 'j', 'i', 'n', 'g']\n"
     ]
    }
   ],
   "source": [
    "s = \"l love wang xiao jing\"\n",
    "print(list(s))"
   ]
  },
  {
   "cell_type": "code",
   "execution_count": 60,
   "metadata": {},
   "outputs": [
    {
     "name": "stdout",
     "output_type": "stream",
     "text": [
      "[1, 2, 3, 4, 5, 6, 7, 8, 9, 10, 11, 12, 13, 14, 15, 16, 17, 18]\n"
     ]
    }
   ],
   "source": [
    "# 把range产生的内容转换为list\n",
    "print(list(range(1,19)))"
   ]
  },
  {
   "cell_type": "code",
   "execution_count": 1,
   "metadata": {},
   "outputs": [
    {
     "name": "stdout",
     "output_type": "stream",
     "text": [
      "[1, 2, 3, 4, 5]\n",
      "[1, 2, 300, 4, 5]\n",
      "[1, 2, 300, 4, 5]\n",
      "9\n",
      "109\n",
      "9\n"
     ]
    }
   ],
   "source": [
    "def a(n):\n",
    "    n[2] = 300\n",
    "    print(n)\n",
    "    return None\n",
    "\n",
    "def b(n):\n",
    "    n += 100\n",
    "    print(n)\n",
    "    return None\n",
    "\n",
    "an = [1, 2, 3, 4, 5]\n",
    "bn = 9\n",
    "\n",
    "print(an)\n",
    "a(an)\n",
    "print(an)\n",
    "\n",
    "print(bn)\n",
    "b(bn)\n",
    "print(bn)"
   ]
  },
  {
   "cell_type": "code",
   "execution_count": 2,
   "metadata": {},
   "outputs": [
    {
     "data": {
      "text/plain": [
       "['a', 'b', 'i love wangxiaojing', 15, 799, (5+4j)]"
      ]
     },
     "execution_count": 2,
     "metadata": {},
     "output_type": "execute_result"
    }
   ],
   "source": [
    "l = ['a', 'b', 'i love wangxiaojing', 15, 799, 5+4j]\n",
    "l"
   ]
  },
  {
   "cell_type": "code",
   "execution_count": 19,
   "metadata": {},
   "outputs": [
    {
     "name": "stdout",
     "output_type": "stream",
     "text": [
      "[1, 2, 3, 4]\n",
      "[1, 2, 3, 4, 100]\n"
     ]
    }
   ],
   "source": [
    "a = [i for i in range(1, 5)]\n",
    "print(a)\n",
    "a.append(100)\n",
    "print(a)"
   ]
  },
  {
   "cell_type": "code",
   "execution_count": 20,
   "metadata": {},
   "outputs": [
    {
     "name": "stdout",
     "output_type": "stream",
     "text": [
      "[1, 2, 3, 4, 100]\n",
      "[1, 2, 3, 666, 4, 100]\n"
     ]
    }
   ],
   "source": [
    "# insert：指定位置插入：\n",
    "# index(index, data) ,插入位置是index的前面\n",
    "print(a)\n",
    "a.insert(3, 666)\n",
    "print(a)"
   ]
  },
  {
   "cell_type": "code",
   "execution_count": 16,
   "metadata": {},
   "outputs": [
    {
     "name": "stdout",
     "output_type": "stream",
     "text": [
      "[1, 2, 3, 666, 4, 100]\n",
      "100\n",
      "[1, 2, 3, 666, 4]\n"
     ]
    }
   ],
   "source": [
    "# 删除\n",
    "# del 删除（按下标删除）\n",
    "# pop, 从队尾拿出一个元素，即把最后一个元素取出来\n",
    "print(a)\n",
    "last_ele = a.pop()\n",
    "print(last_ele)\n",
    "print(a)"
   ]
  },
  {
   "cell_type": "code",
   "execution_count": 33,
   "metadata": {},
   "outputs": [
    {
     "name": "stdout",
     "output_type": "stream",
     "text": [
      "[2, 3, 100, 4, 4]\n",
      "88167304\n",
      "[2, 3, 100, 4]\n",
      "88167304\n"
     ]
    }
   ],
   "source": [
    "# remove: 在列表中删除指定的值的元素\n",
    "# 如果被删除的值没存在list中，则报错\n",
    "# 即。删除list指定值的操作应该使用try ... expect 语句，或者现行判断\n",
    "# if x in list:\n",
    "#    list.remove(x)\n",
    "a.insert(4,4)\n",
    "print(a)\n",
    "print(id(a))\n",
    "a.remove(4)\n",
    "print(a)\n",
    "print(id(a))\n",
    "# 输出两个id一样，说明remove操作是对list直接操作"
   ]
  },
  {
   "cell_type": "code",
   "execution_count": 66,
   "metadata": {
    "scrolled": true
   },
   "outputs": [
    {
     "name": "stdout",
     "output_type": "stream",
     "text": [
      "[1, 2, 3, 4]\n",
      "84150216\n",
      "[]\n",
      "84150216\n",
      "[]\n",
      "84151880\n"
     ]
    }
   ],
   "source": [
    "# clear()：清空,但是列表结构还在，只是清空数据\n",
    "a = [1, 2, 3, 4]\n",
    "print(a)\n",
    "print(id(a))\n",
    "a.clear()\n",
    "print(a)\n",
    "print(id(a))\n",
    "a = []\n",
    "print(a)\n",
    "print(id(a))\n",
    "\n",
    "# 如果不需要列表地址保持不变，则清空列表可以使用一下方式\n",
    "# a = list()\n",
    "# a = []"
   ]
  },
  {
   "cell_type": "code",
   "execution_count": 40,
   "metadata": {},
   "outputs": [
    {
     "name": "stdout",
     "output_type": "stream",
     "text": [
      "[1, 2, 3, 4, 5]\n",
      "88046216\n",
      "[5, 4, 3, 2, 1]\n",
      "88046216\n"
     ]
    }
   ],
   "source": [
    "# reverse()：翻转列表内容，原地翻转\n",
    "# \n",
    "a = [1, 2, 3, 4, 5]\n",
    "print(a)\n",
    "print(id(a))\n",
    "a.reverse()\n",
    "print(a)\n",
    "print(id(a))"
   ]
  },
  {
   "cell_type": "code",
   "execution_count": 45,
   "metadata": {},
   "outputs": [
    {
     "name": "stdout",
     "output_type": "stream",
     "text": [
      "[1, 2, 3, 4, 5]\n",
      "83894152\n",
      "[1, 2, 3, 4, 5, 1, 2, 6, 7, 8, 9, 10]\n",
      "83894152\n"
     ]
    }
   ],
   "source": [
    "# extend:扩展列表，两个列表，把一个直接拼接到后一个上\n",
    "a = [1, 2, 3, 4, 5]\n",
    "b = [1, 2, 6, 7, 8, 9, 10]\n",
    "print(a)\n",
    "print(id(a))\n",
    "\n",
    "a.extend(b)\n",
    "print(a)\n",
    "print(id(a))"
   ]
  },
  {
   "cell_type": "code",
   "execution_count": 56,
   "metadata": {},
   "outputs": [
    {
     "name": "stdout",
     "output_type": "stream",
     "text": [
      "[1, 1, 1, 1, 1, 1, 1, 1, 2, 3, 4, 5, 1, 2, 6, 7, 8, 9, 10, 1, 1, 1, 1, 1, 1, 1, 1, 1]\n",
      "18\n"
     ]
    }
   ],
   "source": [
    "# count：查找列表中指定值或元素的个数\n",
    "a.append(1)\n",
    "a.insert(1, 1)\n",
    "print(a)\n",
    "a_len = a.count(1)\n",
    "print(a_len)"
   ]
  },
  {
   "cell_type": "code",
   "execution_count": 65,
   "metadata": {},
   "outputs": [
    {
     "name": "stdout",
     "output_type": "stream",
     "text": [
      "[1, 2, 3, 4, 5, 666]\n",
      "[1, 2, 3, 777, 5, 666]\n",
      "88167496\n",
      "[1, 2, 3, 777, 5, 666]\n",
      "88167496\n",
      "-------------------------\n",
      "[1, 2, 3, 4, 5, 666]\n",
      "[1, 2, 3, 4, 5, 666]\n",
      "[1, 2, 3, 777, 5, 666]\n",
      "84151880\n",
      "88046920\n"
     ]
    }
   ],
   "source": [
    "# copy:拷贝，浅拷贝\n",
    "\n",
    "# 列表类型变量赋值示例\n",
    "a = [1, 2, 3, 4, 5, 666]\n",
    "print(a)\n",
    "# list类型，简单赋值操作，是传地址\n",
    "b = a\n",
    "b[3] = 777\n",
    "print(a)\n",
    "print(id(a))\n",
    "print(b)\n",
    "print(id(b))\n",
    "print(\"-------------------------\")\n",
    "# 为了解决以上问题，通常我们使用copy()\n",
    "a = [1, 2, 3, 4, 5, 666]\n",
    "print(a)\n",
    "b = a.copy()\n",
    "b[3] = 777\n",
    "print(a)\n",
    "print(b)\n",
    "print(id(a))\n",
    "print(id(b))\n"
   ]
  },
  {
   "cell_type": "code",
   "execution_count": 71,
   "metadata": {},
   "outputs": [
    {
     "name": "stdout",
     "output_type": "stream",
     "text": [
      "83892616\n",
      "83849736\n",
      "84148872\n",
      "84148872\n",
      "[1, 2, 3, [10, 20, 666]]\n",
      "[1, 2, 3, [10, 20, 666]]\n"
     ]
    }
   ],
   "source": [
    "# 深拷贝跟浅拷贝的区别\n",
    "\n",
    "# 出现下列问题的原因是，copy函数是个浅拷贝函数，即只是拷贝一层内容\n",
    "# 深拷贝需要使用特定工具\n",
    "a0 = [10, 20, 30]\n",
    "a = [1, 2, 3, a0]\n",
    "b = a.copy()\n",
    "print(id(a))\n",
    "print(id(b))\n",
    "print(id(a[3]))\n",
    "print(id(b[3]))\n",
    "a[3][2] = 666\n",
    "print(a)\n",
    "print(b)"
   ]
  },
  {
   "cell_type": "code",
   "execution_count": null,
   "metadata": {},
   "outputs": [],
   "source": []
  },
  {
   "cell_type": "code",
   "execution_count": null,
   "metadata": {},
   "outputs": [],
   "source": []
  },
  {
   "cell_type": "code",
   "execution_count": null,
   "metadata": {},
   "outputs": [],
   "source": []
  },
  {
   "cell_type": "code",
   "execution_count": null,
   "metadata": {},
   "outputs": [],
   "source": []
  },
  {
   "cell_type": "code",
   "execution_count": null,
   "metadata": {},
   "outputs": [],
   "source": []
  },
  {
   "cell_type": "code",
   "execution_count": null,
   "metadata": {},
   "outputs": [],
   "source": []
  }
 ],
 "metadata": {
  "kernelspec": {
   "display_name": "Python 3",
   "language": "python",
   "name": "python3"
  },
  "language_info": {
   "codemirror_mode": {
    "name": "ipython",
    "version": 3
   },
   "file_extension": ".py",
   "mimetype": "text/x-python",
   "name": "python",
   "nbconvert_exporter": "python",
   "pygments_lexer": "ipython3",
   "version": "3.6.5"
  }
 },
 "nbformat": 4,
 "nbformat_minor": 2
}
