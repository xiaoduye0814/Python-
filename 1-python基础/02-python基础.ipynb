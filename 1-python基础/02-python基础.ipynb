{
 "cells": [
  {
   "cell_type": "code",
   "execution_count": 7,
   "metadata": {},
   "outputs": [
    {
     "name": "stdout",
     "output_type": "stream",
     "text": [
      "let's \r\n",
      " go\n"
     ]
    }
   ],
   "source": [
    "cat_a=\"let\\'s \\r\\n go\"\n",
    "print(cat_a)"
   ]
  },
  {
   "cell_type": "code",
   "execution_count": 38,
   "metadata": {},
   "outputs": [
    {
     "name": "stdout",
     "output_type": "stream",
     "text": [
      "i am 111111,i am lll years old\n"
     ]
    }
   ],
   "source": [
    "s=\"i am {0},i am {1} years old\".format(\"111111\",\"lll\")\n",
    "print(s)"
   ]
  },
  {
   "cell_type": "code",
   "execution_count": 40,
   "metadata": {},
   "outputs": [
    {
     "name": "stdout",
     "output_type": "stream",
     "text": [
      "5\n"
     ]
    }
   ],
   "source": [
    "s=12%7;\n",
    "print(s)"
   ]
  },
  {
   "cell_type": "code",
   "execution_count": 45,
   "metadata": {},
   "outputs": [
    {
     "name": "stdout",
     "output_type": "stream",
     "text": [
      "4\n"
     ]
    }
   ],
   "source": [
    "a=0\n",
    "b=a=4\n",
    "print(b)"
   ]
  },
  {
   "cell_type": "code",
   "execution_count": 47,
   "metadata": {},
   "outputs": [
    {
     "name": "stdout",
     "output_type": "stream",
     "text": [
      "False\n"
     ]
    }
   ],
   "source": [
    "a=\"i love\"\n",
    "b=\"i love\"\n",
    "print(a is b)"
   ]
  },
  {
   "cell_type": "code",
   "execution_count": 52,
   "metadata": {},
   "outputs": [
    {
     "name": "stdout",
     "output_type": "stream",
     "text": [
      "2222222\n"
     ]
    }
   ],
   "source": [
    "a=11;\n",
    "if a==9:\n",
    "    print(\"hahah\")\n",
    "else:\n",
    "    print(\"2222222\")\n"
   ]
  },
  {
   "cell_type": "code",
   "execution_count": 61,
   "metadata": {},
   "outputs": [
    {
     "name": "stdout",
     "output_type": "stream",
     "text": [
      "请输入性别：nan\n",
      "您输入的性别是nan\n",
      "nanren\n",
      "开课喽\n"
     ]
    }
   ],
   "source": [
    "gender=input(\"请输入性别：\")\n",
    "print(\"您输入的性别是{}\".format(gender))\n",
    "if gender==\"nan\":\n",
    "    print(\"nanren\")\n",
    "else:\n",
    "    print(\"nvren\")\n",
    "print(\"开课喽\")"
   ]
  },
  {
   "cell_type": "code",
   "execution_count": 65,
   "metadata": {},
   "outputs": [
    {
     "name": "stdout",
     "output_type": "stream",
     "text": [
      "请输入性别：jj\n",
      "人妖\n",
      "哈哈哈哈\n"
     ]
    }
   ],
   "source": [
    "gender=input(\"请输入性别：\")\n",
    "if gender==\"nan\":\n",
    "    print(\"男人\")\n",
    "elif gender==\"nv\":\n",
    "    print(\"女人\")\n",
    "else:\n",
    "    print(\"人妖\")\n",
    "print(\"哈哈哈哈\")"
   ]
  },
  {
   "cell_type": "code",
   "execution_count": 67,
   "metadata": {},
   "outputs": [
    {
     "name": "stdout",
     "output_type": "stream",
     "text": [
      "请输入成绩：100\n",
      "beauti\n",
      "你最棒\n"
     ]
    }
   ],
   "source": [
    "score=input(\"请输入成绩：\")\n",
    "score=int(score)\n",
    "if score==100:\n",
    "    print(\"beauti\")\n",
    "elif score==90:\n",
    "    print(\"wandan\")\n",
    "else:\n",
    "    print(\"gun\")\n",
    "print(\"你最棒\")"
   ]
  },
  {
   "cell_type": "code",
   "execution_count": 70,
   "metadata": {},
   "outputs": [
    {
     "name": "stdout",
     "output_type": "stream",
     "text": [
      "33\n",
      "我爱pathon\n",
      "22\n",
      "我爱pathon\n",
      "11\n",
      "我爱Java\n"
     ]
    }
   ],
   "source": [
    "name={\"11\",\"22\",\"33\"};\n",
    "for nameNOw in name:\n",
    "    print(nameNOw)\n",
    "    if nameNOw ==\"11\":\n",
    "        print(\"我爱Java\")\n",
    "    else:\n",
    "        print(\"我爱pathon\")\n"
   ]
  },
  {
   "cell_type": "code",
   "execution_count": 71,
   "metadata": {},
   "outputs": [
    {
     "name": "stdout",
     "output_type": "stream",
     "text": [
      "1\n",
      "2\n",
      "3\n",
      "4\n",
      "5\n",
      "6\n",
      "7\n",
      "8\n",
      "9\n",
      "10\n"
     ]
    }
   ],
   "source": [
    "for i in range(1,11):\n",
    "    print(i)"
   ]
  },
  {
   "cell_type": "code",
   "execution_count": 74,
   "metadata": {},
   "outputs": [
    {
     "name": "stdout",
     "output_type": "stream",
     "text": [
      "我找到了偶数2\n",
      "我找到了偶数4\n",
      "我找到了偶数6\n",
      "我找到了偶数8\n",
      "我找到了偶数10\n"
     ]
    }
   ],
   "source": [
    "for i in range(1,11):\n",
    "    if i%2!=0:\n",
    "        continue\n",
    "    print(\"我找到了偶数{0}\".format(i))"
   ]
  },
  {
   "cell_type": "code",
   "execution_count": 76,
   "metadata": {},
   "outputs": [
    {
     "name": "stdout",
     "output_type": "stream",
     "text": [
      "zhanwei\n",
      "zhanwei\n",
      "zhanwei\n",
      "zhanwei\n",
      "zhanwei\n",
      "zhanwei\n",
      "zhanwei\n",
      "zhanwei\n",
      "zhanwei\n",
      "zhanwei\n"
     ]
    }
   ],
   "source": [
    "for i in range(1,11):\n",
    "    pass\n",
    "    print(\"zhanwei\")"
   ]
  },
  {
   "cell_type": "code",
   "execution_count": 83,
   "metadata": {},
   "outputs": [
    {
     "name": "stdout",
     "output_type": "stream",
     "text": [
      "第1年拿了106700.0块钱\n",
      "第2年拿了113848.9块钱\n",
      "第3年拿了121476.77629999998块钱\n",
      "第4年拿了129615.72031209998块钱\n",
      "第5年拿了138299.97357301068块钱\n",
      "第6年拿了147566.07180240238块钱\n",
      "第7年拿了157452.99861316333块钱\n",
      "第8年拿了168002.34952024528块钱\n",
      "第9年拿了179258.5069381017块钱\n",
      "第10年拿了191268.8269029545块钱\n",
      "第11年拿了204083.83830545243块钱\n",
      "11\n"
     ]
    }
   ],
   "source": [
    "# 如果说年利率是6.7%，本钱是每年翻滚，则多少年后本钱会翻倍\n",
    "benqian=100000\n",
    "year=0;\n",
    "while benqian < 200000:\n",
    "    benqian= benqian * (1+0.067)\n",
    "    year+=1;  # year = year+1\n",
    "    print(\"第{0}年拿了{1}块钱\".format(year,benqian))"
   ]
  },
  {
   "cell_type": "code",
   "execution_count": 84,
   "metadata": {},
   "outputs": [
    {
     "name": "stdout",
     "output_type": "stream",
     "text": [
      "第1年拿了106700.0块钱\n",
      "第2年拿了113848.9块钱\n",
      "第3年拿了121476.77629999998块钱\n",
      "第4年拿了129615.72031209998块钱\n",
      "第5年拿了138299.97357301068块钱\n",
      "第6年拿了147566.07180240238块钱\n",
      "第7年拿了157452.99861316333块钱\n",
      "第8年拿了168002.34952024528块钱\n",
      "第9年拿了179258.5069381017块钱\n",
      "第10年拿了191268.8269029545块钱\n",
      "第11年拿了204083.83830545243块钱\n",
      "10年翻倍了哈哈哈哈\n",
      "当年10万可以盖个房子，限制儿子结棍20万给他盖个厨房\n"
     ]
    }
   ],
   "source": [
    "# 如果说年利率是6.7%，本钱是每年翻滚，则多少年后本钱会翻倍\n",
    "# 如果拿到的钱翻倍，则用print庆祝一下\n",
    "benqian=100000\n",
    "year=0;\n",
    "while benqian < 200000:\n",
    "    benqian= benqian * (1+0.067)\n",
    "    year+=1;  # year = year+1\n",
    "    print(\"第{0}年拿了{1}块钱\".format(year,benqian))\n",
    "else:\n",
    "    print(\"10年翻倍了哈哈哈哈\")\n",
    "    print(\"当年10万可以盖个房子，限制儿子结棍20万给他盖个厨房\")"
   ]
  },
  {
   "cell_type": "code",
   "execution_count": 109,
   "metadata": {},
   "outputs": [
    {
     "name": "stdout",
     "output_type": "stream",
     "text": [
      "1*1 \r\n",
      "\n",
      "1*2 2*2 \r\n",
      "\n",
      "1*3 2*3 3*3 \r\n",
      "\n",
      "1*4 2*4 3*4 4*4 \r\n",
      "\n",
      "1*5 2*5 3*5 4*5 5*5 \r\n",
      "\n",
      "1*6 2*6 3*6 4*6 5*6 6*6 \r\n",
      "\n",
      "1*7 2*7 3*7 4*7 5*7 6*7 7*7 \r\n",
      "\n",
      "1*8 2*8 3*8 4*8 5*8 6*8 7*8 8*8 \r\n",
      "\n",
      "1*9 2*9 3*9 4*9 5*9 6*9 7*9 8*9 9*9 \r\n",
      "\n"
     ]
    }
   ],
   "source": [
    "# 99乘法表\n",
    "for m in range(1,10):\n",
    "    for n in range(1,int(m)+1):\n",
    "            m=str(m)\n",
    "            n=str(n)\n",
    "            print(n+\"*\"+m, end=' ')\n",
    "    print(\"\\r\\n\")"
   ]
  },
  {
   "cell_type": "code",
   "execution_count": 145,
   "metadata": {},
   "outputs": [
    {
     "name": "stdout",
     "output_type": "stream",
     "text": [
      "   1 \r\n",
      "\n",
      "  2 2 \r\n",
      "\n",
      " 3 3 3 \r\n",
      "\n",
      "4 4 4 4 \r\n",
      "\n"
     ]
    }
   ],
   "source": [
    "# 杨辉三角\n",
    "for m in range(1,5):\n",
    "    for n1 in range(1,5-m):\n",
    "        print(\" \",end='')\n",
    "    for n2 in range(1,m+1):\n",
    "        print(str(m)+\" \",end='')\n",
    "    print(\"\\r\\n\")"
   ]
  },
  {
   "cell_type": "code",
   "execution_count": 186,
   "metadata": {},
   "outputs": [
    {
     "name": "stdout",
     "output_type": "stream",
     "text": [
      " 1 \r\n",
      "\n",
      "1 1 \r\n",
      "\n"
     ]
    }
   ],
   "source": [
    "# 杨辉三角\n",
    "for m in range(1,3):\n",
    "    for n1 in range(1,3-m):\n",
    "        print(\" \",end='')\n",
    "    for n2 in range(1,m+1):\n",
    "        print(str(1)+\" \",end='')\n",
    "    print(\"\\r\\n\")"
   ]
  },
  {
   "cell_type": "markdown",
   "metadata": {},
   "source": [
    "# 杨辉三角\n",
    "for m in range(1,6):\n",
    "    for n1 in range(1,6-m):\n",
    "        print(\" \",end='')\n",
    "    for n2 in range(1,m+1):\n",
    "        if n2==1:\n",
    "            print(\"1\"+\" \",end='')\n",
    "        elif (n2==m) and (m!=1):\n",
    "            print(\"1\"+\" \",end='')\n",
    "        else:\n",
    "            print(str(m)+\" \",end='')\n",
    "    print(\"\\r\\n\")\n"
   ]
  },
  {
   "cell_type": "code",
   "execution_count": 249,
   "metadata": {},
   "outputs": [
    {
     "name": "stdout",
     "output_type": "stream",
     "text": [
      "      1 \r\n",
      "\n",
      "     1 1 \r\n",
      "\n",
      "    1 2 1 \r\n",
      "\n",
      "   1 3 3 1 \r\n",
      "\n",
      "  1 4 4 4 1 \r\n",
      "\n",
      " 1 5 5 5 5 1 \r\n",
      "\n",
      "1 6 6 6 6 6 1 \r\n",
      "\n"
     ]
    }
   ],
   "source": [
    "for m in range(1,8):\n",
    "    for n1 in range(1,8-m):\n",
    "        print(\" \",end='')\n",
    "    for n2 in range(1,m+1):\n",
    "        if (n2==1) or ((n2==m) and (m!=1)):\n",
    "            print(\"1\"+\" \",end='')\n",
    "#         elif (m>=6) and ((n2==3) or (n2==m-2)):\n",
    "#             print(\"&\"+\" \",end='')\n",
    "#         elif (m>=5) and (m%2!=0) and(n2==(m//2+1)):\n",
    "#             print(str(2*(m-2))+\" \",end='')\n",
    "        else:\n",
    "            print(str(m-1)+\" \",end='')\n",
    "    print(\"\\r\\n\")"
   ]
  },
  {
   "cell_type": "code",
   "execution_count": null,
   "metadata": {},
   "outputs": [],
   "source": []
  },
  {
   "cell_type": "code",
   "execution_count": null,
   "metadata": {},
   "outputs": [],
   "source": []
  },
  {
   "cell_type": "code",
   "execution_count": null,
   "metadata": {},
   "outputs": [],
   "source": []
  },
  {
   "cell_type": "code",
   "execution_count": null,
   "metadata": {},
   "outputs": [],
   "source": []
  }
 ],
 "metadata": {
  "kernelspec": {
   "display_name": "Python 3",
   "language": "python",
   "name": "python3"
  },
  "language_info": {
   "codemirror_mode": {
    "name": "ipython",
    "version": 3
   },
   "file_extension": ".py",
   "mimetype": "text/x-python",
   "name": "python",
   "nbconvert_exporter": "python",
   "pygments_lexer": "ipython3",
   "version": "3.6.5"
  }
 },
 "nbformat": 4,
 "nbformat_minor": 2
}
