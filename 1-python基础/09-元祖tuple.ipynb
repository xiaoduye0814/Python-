{
 "cells": [
  {
   "cell_type": "markdown",
   "metadata": {},
   "source": [
    "# 元祖 - tuple\n",
    "\n",
    "- 元祖可以看成一个不可更改的list\n",
    "\n",
    "## 元祖创建"
   ]
  },
  {
   "cell_type": "code",
   "execution_count": 13,
   "metadata": {},
   "outputs": [
    {
     "name": "stdout",
     "output_type": "stream",
     "text": [
      "<class 'tuple'>\n",
      "<class 'tuple'>\n",
      "(1,)\n",
      "<class 'tuple'>\n",
      "(1,)\n",
      "<class 'tuple'>\n",
      "(1, 3, 5, 6)\n",
      "<class 'tuple'>\n",
      "(1, 3, 5, 6)\n",
      "<class 'tuple'>\n",
      "(1, 3, 5, 7)\n"
     ]
    }
   ],
   "source": [
    "# 创建空元祖\n",
    "t = ()\n",
    "print(type(t))\n",
    "\n",
    "# 创建一个只有一个值的元祖\n",
    "t = (1,)\n",
    "print(type(t))\n",
    "print(t)\n",
    "\n",
    "t = 1,\n",
    "print(type(t))\n",
    "print(t)\n",
    "\n",
    "# 创建多个值的元祖\n",
    "t = (1, 3, 5, 6)\n",
    "print(type(t))\n",
    "print(t)\n",
    "\n",
    "t = 1, 3, 5, 6\n",
    "print(type(t))\n",
    "print(t)\n",
    "\n",
    "# 使用其他结构创建\n",
    "l = [1, 3, 5, 7]\n",
    "t = tuple(l)\n",
    "print(type(t))\n",
    "print(t)\n"
   ]
  },
  {
   "cell_type": "markdown",
   "metadata": {},
   "source": [
    "## 元祖的特性\n",
    "- 是序列表，有序\n",
    "- 元祖数据值可以访问，不能修改，不能修改，不能修改\n",
    "- 元祖数据可以是任意类型\n",
    "- 总之，list所有特性，除了不可修改外，元祖都具有\n",
    "- 也就意味着，list具有一些操作，比如索引，分片，序列相加，相乘，成员资格操作等一模一样"
   ]
  },
  {
   "cell_type": "code",
   "execution_count": 16,
   "metadata": {
    "scrolled": true
   },
   "outputs": [
    {
     "name": "stdout",
     "output_type": "stream",
     "text": [
      "9\n"
     ]
    }
   ],
   "source": [
    "# 索引操作\n",
    "t = (1, 2, 4, 5, 9)\n",
    "print(t[4])"
   ]
  },
  {
   "cell_type": "code",
   "execution_count": 17,
   "metadata": {},
   "outputs": [
    {
     "ename": "IndexError",
     "evalue": "tuple index out of range",
     "output_type": "error",
     "traceback": [
      "\u001b[1;31m---------------------------------------------------------------------------\u001b[0m",
      "\u001b[1;31mIndexError\u001b[0m                                Traceback (most recent call last)",
      "\u001b[1;32m<ipython-input-17-3b3246e11c32>\u001b[0m in \u001b[0;36m<module>\u001b[1;34m()\u001b[0m\n\u001b[0;32m      1\u001b[0m \u001b[1;31m# 超标操作\u001b[0m\u001b[1;33m\u001b[0m\u001b[1;33m\u001b[0m\u001b[0m\n\u001b[1;32m----> 2\u001b[1;33m \u001b[0mprint\u001b[0m\u001b[1;33m(\u001b[0m\u001b[0mt\u001b[0m\u001b[1;33m[\u001b[0m\u001b[1;36m10\u001b[0m\u001b[1;33m]\u001b[0m\u001b[1;33m)\u001b[0m\u001b[1;33m\u001b[0m\u001b[0m\n\u001b[0m",
      "\u001b[1;31mIndexError\u001b[0m: tuple index out of range"
     ]
    }
   ],
   "source": [
    "# 超标操作\n",
    "print(t[10])"
   ]
  },
  {
   "cell_type": "code",
   "execution_count": 33,
   "metadata": {},
   "outputs": [
    {
     "name": "stdout",
     "output_type": "stream",
     "text": [
      "80660424\n",
      "84448024\n",
      "(2, 4, 6)\n",
      "(2, 3, 4, 5, 6)\n"
     ]
    }
   ],
   "source": [
    "# 切片操作\n",
    "t = (1, 2, 3, 4, 5, 6)\n",
    "t1 =t[1::2]  # 下标从1开始，步长是2\n",
    "print(id(t))\n",
    "print(id(t1))\n",
    "print(t1)\n",
    "\n",
    "# 切片可以超标\n",
    "t2 = t[1:100]\n",
    "print(t2)"
   ]
  },
  {
   "cell_type": "code",
   "execution_count": 35,
   "metadata": {},
   "outputs": [
    {
     "name": "stdout",
     "output_type": "stream",
     "text": [
      "(1, 2, 3)\n",
      "83795832\n",
      "(1, 2, 3, 5, 6, 7)\n",
      "54711496\n"
     ]
    },
    {
     "ename": "TypeError",
     "evalue": "'tuple' object does not support item assignment",
     "output_type": "error",
     "traceback": [
      "\u001b[1;31m---------------------------------------------------------------------------\u001b[0m",
      "\u001b[1;31mTypeError\u001b[0m                                 Traceback (most recent call last)",
      "\u001b[1;32m<ipython-input-35-16d00b65a5a9>\u001b[0m in \u001b[0;36m<module>\u001b[1;34m()\u001b[0m\n\u001b[0;32m     16\u001b[0m \u001b[1;33m\u001b[0m\u001b[0m\n\u001b[0;32m     17\u001b[0m \u001b[1;31m# tuple的不可修改，指得是内容不可修改\u001b[0m\u001b[1;33m\u001b[0m\u001b[1;33m\u001b[0m\u001b[0m\n\u001b[1;32m---> 18\u001b[1;33m \u001b[0mt1\u001b[0m\u001b[1;33m[\u001b[0m\u001b[1;36m1\u001b[0m\u001b[1;33m]\u001b[0m \u001b[1;33m=\u001b[0m \u001b[1;36m100\u001b[0m\u001b[1;33m\u001b[0m\u001b[0m\n\u001b[0m",
      "\u001b[1;31mTypeError\u001b[0m: 'tuple' object does not support item assignment"
     ]
    }
   ],
   "source": [
    "# 序列相加\n",
    "t1 = (1, 2, 3)\n",
    "t2 = (5, 6, 7)\n",
    "\n",
    "# 传地址操作\n",
    "print(t1)\n",
    "print(id(t1))\n",
    "t1 += t2\n",
    "# 相当于 t1 = t1 + t2\n",
    "print(t1)\n",
    "print(id(t1))\n",
    "\n",
    "# 以上操作类似于\n",
    "t1 = (1, 2, 4)\n",
    "t1 = (1, 4, 6)\n",
    "\n",
    "# tuple的不可修改，指得是内容不可修改\n",
    "t1[1] = 100  #报错TypeError \n"
   ]
  },
  {
   "cell_type": "code",
   "execution_count": 36,
   "metadata": {},
   "outputs": [
    {
     "name": "stdout",
     "output_type": "stream",
     "text": [
      "(1, 2, 3, 1, 2, 3, 1, 2, 3)\n"
     ]
    }
   ],
   "source": [
    "# 元祖相乘\n",
    "t = (1, 2, 3)\n",
    "t = t*3\n",
    "print(t)"
   ]
  },
  {
   "cell_type": "code",
   "execution_count": 37,
   "metadata": {},
   "outputs": [
    {
     "name": "stdout",
     "output_type": "stream",
     "text": [
      "YES\n"
     ]
    }
   ],
   "source": [
    "# 成员检测\n",
    "t = (1, 2, 3)\n",
    "if 2 in t:\n",
    "    print(\"YES\")\n",
    "else:\n",
    "    print(\"NO\")"
   ]
  },
  {
   "cell_type": "code",
   "execution_count": 41,
   "metadata": {},
   "outputs": [
    {
     "name": "stdout",
     "output_type": "stream",
     "text": [
      "1 2 3 wangxiaojing i love "
     ]
    }
   ],
   "source": [
    "# 元祖的遍历，一般采用for循环\n",
    "# 1. 单层元祖遍历\n",
    "t = (1, 2, 3, \"wangxiaojing\", \"i\", \"love\")\n",
    "for i in t:\n",
    "    print(i, end=\" \")"
   ]
  },
  {
   "cell_type": "code",
   "execution_count": 43,
   "metadata": {},
   "outputs": [
    {
     "name": "stdout",
     "output_type": "stream",
     "text": [
      "(1, 2, 3)\n",
      "(2, 3, 5)\n",
      "('i', 'love', 'wangxiaojing')\n",
      "1 -- 2 -- 3\n",
      "2 -- 3 -- 5\n",
      "i -- love -- wangxiaojing\n"
     ]
    }
   ],
   "source": [
    "# 2. 双层元祖的遍历\n",
    "t = ((1, 2, 3), (2, 3, 5), (\"i\", \"love\", \"wangxiaojing\"))\n",
    "\n",
    "# 对于以下元祖的遍历，可以如下\n",
    "# 1.\n",
    "for i in t:\n",
    "    print(i)\n",
    "    \n",
    "# 2.\n",
    "for k, m, n in t:\n",
    "    print(k,\"--\", m, \"--\", n)"
   ]
  },
  {
   "cell_type": "code",
   "execution_count": null,
   "metadata": {},
   "outputs": [],
   "source": []
  },
  {
   "cell_type": "code",
   "execution_count": null,
   "metadata": {},
   "outputs": [],
   "source": []
  },
  {
   "cell_type": "code",
   "execution_count": null,
   "metadata": {},
   "outputs": [],
   "source": []
  },
  {
   "cell_type": "code",
   "execution_count": null,
   "metadata": {},
   "outputs": [],
   "source": []
  },
  {
   "cell_type": "code",
   "execution_count": null,
   "metadata": {},
   "outputs": [],
   "source": []
  },
  {
   "cell_type": "code",
   "execution_count": null,
   "metadata": {},
   "outputs": [],
   "source": []
  },
  {
   "cell_type": "code",
   "execution_count": null,
   "metadata": {},
   "outputs": [],
   "source": []
  },
  {
   "cell_type": "code",
   "execution_count": null,
   "metadata": {},
   "outputs": [],
   "source": []
  }
 ],
 "metadata": {
  "kernelspec": {
   "display_name": "Python 3",
   "language": "python",
   "name": "python3"
  },
  "language_info": {
   "codemirror_mode": {
    "name": "ipython",
    "version": 3
   },
   "file_extension": ".py",
   "mimetype": "text/x-python",
   "name": "python",
   "nbconvert_exporter": "python",
   "pygments_lexer": "ipython3",
   "version": "3.6.5"
  }
 },
 "nbformat": 4,
 "nbformat_minor": 2
}
